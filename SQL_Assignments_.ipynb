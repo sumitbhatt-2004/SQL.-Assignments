{
  "nbformat": 4,
  "nbformat_minor": 0,
  "metadata": {
    "colab": {
      "provenance": []
    },
    "kernelspec": {
      "name": "python3",
      "display_name": "Python 3"
    },
    "language_info": {
      "name": "python"
    }
  },
  "cells": [
    {
      "cell_type": "markdown",
      "source": [
        "Solution 1:"
      ],
      "metadata": {
        "id": "D_77CgmQNJKb"
      }
    },
    {
      "cell_type": "code",
      "source": [
        "import sqlite3\n",
        "\n",
        "# Connect to a database (or create one if it doesn't exist)\n",
        "# The database will be stored in the file 'employees.db'\n",
        "conn = sqlite3.connect('employees.db')\n",
        "\n",
        "# Create a cursor object to execute SQL commands\n",
        "cursor = conn.cursor()\n",
        "\n",
        "# SQL command to create the table\n",
        "create_table_sql = \"\"\"\n",
        "CREATE TABLE employees (\n",
        "    emp_id INT NOT NULL PRIMARY KEY,\n",
        "    emp_name TEXT NOT NULL,\n",
        "    age INT CHECK (age >= 18),\n",
        "    email TEXT UNIQUE,\n",
        "    salary DECIMAL(10, 2) DEFAULT 30000\n",
        ");\n",
        "\"\"\"\n",
        "\n",
        "# Execute the SQL command\n",
        "cursor.execute(create_table_sql)\n",
        "\n",
        "# Commit the changes and close the connection\n",
        "conn.commit()\n",
        "conn.close()\n",
        "\n",
        "print(\"Table 'employees' created successfully.\")"
      ],
      "metadata": {
        "colab": {
          "base_uri": "https://localhost:8080/"
        },
        "id": "kUT7c4XFNGZD",
        "outputId": "46d4e906-baab-42f0-e86a-d2e0d7dc2c77"
      },
      "execution_count": null,
      "outputs": [
        {
          "output_type": "stream",
          "name": "stdout",
          "text": [
            "Table 'employees' created successfully.\n"
          ]
        }
      ]
    },
    {
      "cell_type": "markdown",
      "source": [
        "Question 2 :  **Explain the purpose of constraints?**\n",
        "\n",
        "Solution: Constraints are rules enforced on data columns in a table. They are used to limit the type of data that can be inserted into a table, thus maintaining the data integrity and reliability of the database.\n",
        "\n",
        "Common types of constraints include:\n",
        "\n",
        "PRIMARY KEY: Uniquely identifies each record in a table.\n",
        "\n",
        "FOREIGN KEY: Establishes a link between data in two tables.\n",
        "\n",
        "NOT NULL: Ensures that a column cannot have a NULL value.\n",
        "\n",
        "UNIQUE: Ensures that all values in a column are different.\n",
        "\n",
        "CHECK: Ensures that the values in a column satisfy a specific condition\n"
      ],
      "metadata": {
        "id": "D1sZhOlMNpyT"
      }
    },
    {
      "cell_type": "markdown",
      "source": [
        "Question : Why apply the NOT NULL constraint?\n",
        "\n",
        "Solution : The NOT NULL constraint is applied to a column to ensure that the column always contains a value. This is important for columns where having a missing value would make the data incomplete or meaningless. A primary key cannot contain NULL values because it is used to uniquely identify each record in the table. If a primary key were allowed to have NULL values, it would violate the fundamental requirement of uniquely identifying records."
      ],
      "metadata": {
        "id": "kgOmCcmkO3YR"
      }
    },
    {
      "cell_type": "markdown",
      "source": [
        "Question. Explain steps to add/remove constraints:\n",
        "\n",
        "Solution : To add a constraint to an existing table, you can use the ALTER TABLE command with the ADD CONSTRAINT clause. To remove a constraint, you can use the ALTER TABLE command with the DROP CONSTRAINT clause. Here are example"
      ],
      "metadata": {
        "id": "YDImRbg2PTMo"
      }
    },
    {
      "cell_type": "code",
      "source": [
        "import sqlite3\n",
        "\n",
        "# Connect to the database\n",
        "conn = sqlite3.connect('employees.db')\n",
        "cursor = conn.cursor()\n",
        "\n",
        "# SQL command to add a constraint\n",
        "add_constraint_sql = \"\"\"\n",
        "ALTER TABLE employees\n",
        "ADD CONSTRAINT salary_check CHECK (salary > 0);\n",
        "\"\"\"\n",
        "\n",
        "# Execute the SQL command to add the constraint\n",
        "try:\n",
        "    cursor.execute(add_constraint_sql)\n",
        "    conn.commit()\n",
        "    print(\"Constraint 'salary_check' added successfully.\")\n",
        "except sqlite3.Error as e:\n",
        "    print(f\"Error adding constraint: {e}\")\n",
        "\n",
        "# SQL command to remove the constraint\n",
        "remove_constraint_sql = \"\"\"\n",
        "ALTER TABLE employees\n",
        "DROP CONSTRAINT salary_check;\n",
        "\"\"\"\n",
        "\n",
        "# Execute the SQL command to remove the constraint\n",
        "try:\n",
        "    cursor.execute(remove_constraint_sql)\n",
        "    conn.commit()\n",
        "    print(\"Constraint 'salary_check' removed successfully.\")\n",
        "except sqlite3.Error as e:\n",
        "    print(f\"Error removing constraint: {e}\")\n",
        "finally:\n",
        "    # Close the connection\n",
        "    conn.close()"
      ],
      "metadata": {
        "colab": {
          "base_uri": "https://localhost:8080/"
        },
        "id": "VWMIoHHCQ1tp",
        "outputId": "7ef40d49-3218-4dcb-e7b7-f343a2f9d38d"
      },
      "execution_count": null,
      "outputs": [
        {
          "output_type": "stream",
          "name": "stdout",
          "text": [
            "Error adding constraint: near \"CONSTRAINT\": syntax error\n",
            "Error removing constraint: near \"CONSTRAINT\": syntax error\n"
          ]
        }
      ]
    },
    {
      "cell_type": "markdown",
      "source": [
        "Solution 5: Consequences of violating constraints:\n",
        "\n",
        "Attempting to insert, update, or delete data in a way that violates a constraint will result in an error. The specific error message will depend on the type of constraint violated and the database system being used.\n",
        "\n",
        "For example, if you try to insert a row into the employees table with a NULL value for the emp_name column, you will get an error message similar to:\n",
        "\n"
      ],
      "metadata": {
        "id": "owsjvrEjPTJu"
      }
    },
    {
      "cell_type": "markdown",
      "source": [
        "Solution 6:"
      ],
      "metadata": {
        "id": "JUMB9o8ERr8Q"
      }
    },
    {
      "cell_type": "code",
      "source": [
        "import sqlite3\n",
        "\n",
        "# Connect to the database\n",
        "conn = sqlite3.connect('employees.db') # Assuming 'employees.db' is your database file\n",
        "cursor = conn.cursor()\n",
        "\n",
        "# SQL command to add a primary key constraint\n",
        "add_pk_sql = \"\"\"\n",
        "ALTER TABLE products\n",
        "ADD CONSTRAINT product_id_pk PRIMARY KEY (product_id);\n",
        "\"\"\"\n",
        "\n",
        "# SQL command to set a default value for the price column\n",
        "alter_column_default_sql = \"\"\"\n",
        "ALTER TABLE products\n",
        "ALTER COLUMN price SET DEFAULT 50.00;\n",
        "\"\"\"\n",
        "\n",
        "# Execute the SQL command to add the primary key constraint\n",
        "try:\n",
        "    cursor.execute(add_pk_sql)\n",
        "    conn.commit()\n",
        "    print(\"Primary key constraint 'product_id_pk' added successfully to the 'products' table.\")\n",
        "except sqlite3.Error as e:\n",
        "    print(f\"Error adding primary key constraint: {e}\")\n",
        "\n",
        "# Execute the SQL command to set the default value for the price column\n",
        "try:\n",
        "    cursor.execute(alter_column_default_sql)\n",
        "    conn.commit()\n",
        "    print(\"Default value for 'price' column set successfully in the 'products' table.\")\n",
        "except sqlite3.Error as e:\n",
        "    print(f\"Error setting default value for 'price' column: {e}\")\n",
        "finally:\n",
        "    # Close the connection\n",
        "    conn.close()"
      ],
      "metadata": {
        "colab": {
          "base_uri": "https://localhost:8080/"
        },
        "id": "eVGxFIS_RrnB",
        "outputId": "b01aa157-2e52-4a12-819f-04a3e9036657"
      },
      "execution_count": null,
      "outputs": [
        {
          "output_type": "stream",
          "name": "stdout",
          "text": [
            "Error adding primary key constraint: no such table: products\n",
            "Error setting default value for 'price' column: near \"ALTER\": syntax error\n"
          ]
        }
      ]
    },
    {
      "cell_type": "markdown",
      "source": [
        "Question 7 : Write a query to fetch student_name and class_name using INNER JOIN:\n",
        "\n",
        "Solution :\n",
        "\n",
        "\n",
        "\n"
      ],
      "metadata": {
        "id": "SrSsSr5nSFH9"
      }
    },
    {
      "cell_type": "code",
      "source": [
        "import sqlite3\n",
        "\n",
        "# Connect to the database (replace 'your_database.db' with your database file name)\n",
        "conn = sqlite3.connect('your_database.db')\n",
        "cursor = conn.cursor()\n",
        "\n",
        "# SQL query to fetch student_name and class_name using INNER JOIN\n",
        "select_query = \"\"\"\n",
        "SELECT Students.student_name, Classes.class_name\n",
        "FROM Students\n",
        "INNER JOIN Classes ON Students.class_id = Classes.class_id;\n",
        "\"\"\"\n",
        "\n",
        "# Execute the SQL query\n",
        "try:\n",
        "    cursor.execute(select_query)\n",
        "    results = cursor.fetchall()\n",
        "\n",
        "    # Print the results\n",
        "    for row in results:\n",
        "        print(row)\n",
        "\n",
        "except sqlite3.Error as e:\n",
        "    print(f\"Error executing query: {e}\")\n",
        "finally:\n",
        "    # Close the connection\n",
        "    conn.close()"
      ],
      "metadata": {
        "colab": {
          "base_uri": "https://localhost:8080/"
        },
        "id": "hKqyXGeGSEjA",
        "outputId": "d8e5a927-247c-4869-b530-95545b253051"
      },
      "execution_count": null,
      "outputs": [
        {
          "output_type": "stream",
          "name": "stdout",
          "text": [
            "Error executing query: no such table: Students\n"
          ]
        }
      ]
    },
    {
      "cell_type": "markdown",
      "source": [
        "Solution : 8"
      ],
      "metadata": {
        "id": "4o_xuLZzSo07"
      }
    },
    {
      "cell_type": "code",
      "source": [
        "import sqlite3\n",
        "\n",
        "# Connect to your database (replace 'your_database.db' with your actual database file)\n",
        "conn = sqlite3.connect('your_database.db')\n",
        "cursor = conn.cursor()\n",
        "\n",
        "# SQL query\n",
        "select_query = \"\"\"\n",
        "SELECT\n",
        "    o.order_id,\n",
        "    c.customer_name,\n",
        "    p.product_name\n",
        "FROM\n",
        "    Products p\n",
        "LEFT JOIN\n",
        "    Orders o ON p.order_id = o.order_id\n",
        "LEFT JOIN\n",
        "    Customers c ON o.customer_id = c.customer_id;\n",
        "\"\"\"\n",
        "\n",
        "# Execute the query\n",
        "try:\n",
        "    cursor.execute(select_query)\n",
        "    results = cursor.fetchall()\n",
        "\n",
        "    # Print the results\n",
        "    for row in results:\n",
        "        print(row)\n",
        "\n",
        "except sqlite3.Error as e:\n",
        "    print(f\"Error executing query: {e}\")\n",
        "finally:\n",
        "    # Close the connection\n",
        "    conn.close()"
      ],
      "metadata": {
        "colab": {
          "base_uri": "https://localhost:8080/"
        },
        "id": "zPXB95LBO3Fk",
        "outputId": "521ea3f1-f34b-4c29-e5cb-212c38689865"
      },
      "execution_count": null,
      "outputs": [
        {
          "output_type": "stream",
          "name": "stdout",
          "text": [
            "Error executing query: no such table: Products\n"
          ]
        }
      ]
    },
    {
      "cell_type": "markdown",
      "source": [
        "Solution 9 :"
      ],
      "metadata": {
        "id": "50zXHPqmS85M"
      }
    },
    {
      "cell_type": "code",
      "execution_count": null,
      "metadata": {
        "colab": {
          "base_uri": "https://localhost:8080/"
        },
        "id": "-TPjQ73QLybY",
        "outputId": "c3fb66b7-d7e0-4ac6-83ae-ab3c2f01810e"
      },
      "outputs": [
        {
          "output_type": "stream",
          "name": "stdout",
          "text": [
            "Error executing query: no such table: Sales\n"
          ]
        }
      ],
      "source": [
        "import sqlite3\n",
        "\n",
        "# Connect to your database (replace 'your_database.db' with your actual database file)\n",
        "conn = sqlite3.connect('your_database.db')\n",
        "cursor = conn.cursor()\n",
        "\n",
        "# SQL query\n",
        "select_query = \"\"\"\n",
        "SELECT\n",
        "    p.product_name,\n",
        "    SUM(s.amount) AS total_sales_amount\n",
        "FROM\n",
        "    Sales s\n",
        "INNER JOIN\n",
        "    Products p ON s.product_id = p.product_id\n",
        "GROUP BY\n",
        "    p.product_name;\n",
        "\"\"\"\n",
        "\n",
        "# Execute the query\n",
        "try:\n",
        "    cursor.execute(select_query)\n",
        "    results = cursor.fetchall()\n",
        "\n",
        "    # Print the results\n",
        "    for row in results:\n",
        "        print(row)\n",
        "\n",
        "except sqlite3.Error as e:\n",
        "    print(f\"Error executing query: {e}\")\n",
        "finally:\n",
        "    # Close the connection\n",
        "    conn.close()"
      ]
    },
    {
      "cell_type": "markdown",
      "source": [
        "Solution 10:"
      ],
      "metadata": {
        "id": "7-3OfGnATiuc"
      }
    },
    {
      "cell_type": "code",
      "source": [
        "import sqlite3\n",
        "\n",
        "# Connect to your database (replace 'your_database.db' with your actual database file)\n",
        "conn = sqlite3.connect('your_database.db')\n",
        "cursor = conn.cursor()\n",
        "\n",
        "# SQL query\n",
        "select_query = \"\"\"\n",
        "SELECT\n",
        "    o.order_id,\n",
        "    c.customer_name,\n",
        "    od.quantity\n",
        "FROM\n",
        "    Orders o\n",
        "INNER JOIN\n",
        "    Customers c ON o.customer_id = c.customer_id\n",
        "INNER JOIN\n",
        "    Order_Details od ON o.order_id = od.order_id;\n",
        "\"\"\"\n",
        "\n",
        "# Execute the query\n",
        "try:\n",
        "    cursor.execute(select_query)\n",
        "    results = cursor.fetchall()\n",
        "\n",
        "    # Print the results\n",
        "    for row in results:\n",
        "        print(row)\n",
        "\n",
        "except sqlite3.Error as e:\n",
        "    print(f\"Error executing query: {e}\")\n",
        "finally:\n",
        "    # Close the connection\n",
        "    conn.close()"
      ],
      "metadata": {
        "colab": {
          "base_uri": "https://localhost:8080/"
        },
        "id": "FyKV7CAuS7ij",
        "outputId": "e5c0a983-af51-4f9f-adff-6c7ddb082672"
      },
      "execution_count": null,
      "outputs": [
        {
          "output_type": "stream",
          "name": "stdout",
          "text": [
            "Error executing query: no such table: Orders\n"
          ]
        }
      ]
    },
    {
      "cell_type": "markdown",
      "source": [
        "**SQL Commands**"
      ],
      "metadata": {
        "id": "rVKgP1Cbah5M"
      }
    },
    {
      "cell_type": "markdown",
      "source": [
        "Solution 1: Identify primary and foreign keys:\n",
        "\n",
        "Primary keys uniquely identify records within a table.\n",
        "Foreign keys establish relationships between tables by referencing primary keys in other tables.\n",
        "To identify these, you would typically use the SHOW CREATE TABLE table_name; command in MySQL or query the information schema in other databases.\n"
      ],
      "metadata": {
        "id": "QC7bBvpybWQ5"
      }
    },
    {
      "cell_type": "markdown",
      "source": [
        "Solution 2 :"
      ],
      "metadata": {
        "id": "nybmyn5GHyWY"
      }
    },
    {
      "cell_type": "code",
      "source": [
        "import sqlite3\n",
        "\n",
        "conn = sqlite3.connect('employees.db')\n",
        "cursor = conn.cursor()\n",
        "\n",
        "select_query = \"\"\"\n",
        "SELECT * FROM actor;\n",
        "\"\"\"\n",
        "\n",
        "try:\n",
        "    cursor.execute(select_query)\n",
        "    results = cursor.fetchall()\n",
        "\n",
        "\n",
        "    for row in results:\n",
        "        print(row)\n",
        "\n",
        "except sqlite3.Error as e:\n",
        "    print(f\"Error executing query: {e}\")\n",
        "finally:\n",
        "    # Close the connection\n",
        "    conn.close()"
      ],
      "metadata": {
        "id": "Abd3thQpS7fn",
        "colab": {
          "base_uri": "https://localhost:8080/"
        },
        "outputId": "b02809b6-41c9-412e-d2b7-2f4f6202e1a6"
      },
      "execution_count": 2,
      "outputs": [
        {
          "output_type": "stream",
          "name": "stdout",
          "text": [
            "Error executing query: no such table: actor\n"
          ]
        }
      ]
    },
    {
      "cell_type": "markdown",
      "source": [
        "Solution 3:"
      ],
      "metadata": {
        "id": "VcKESGeWIXmv"
      }
    },
    {
      "cell_type": "code",
      "metadata": {
        "colab": {
          "base_uri": "https://localhost:8080/"
        },
        "id": "c27732e2",
        "outputId": "88596e99-caef-4b85-83f3-d8509908375b"
      },
      "source": [
        "import sqlite3\n",
        "\n",
        "# Connect to the database\n",
        "conn = sqlite3.connect('employees.db')\n",
        "cursor = conn.cursor()\n",
        "\n",
        "# SQL query to list all tables in the databaseSELECT * FROM customer;\n",
        "select_tables_query = \"\"\"\n",
        "SELECT name FROM sqlite_master WHERE type='table';\n",
        "\"\"\"\n",
        "\n",
        "# Execute the query\n",
        "try:\n",
        "    cursor.execute(select_tables_query)\n",
        "    tables = cursor.fetchall()\n",
        "\n",
        "    # Print the table names\n",
        "    print(\"Tables in the database:\")\n",
        "    for table in tables:\n",
        "        print(table[0])\n",
        "\n",
        "except sqlite3.Error as e:\n",
        "    print(f\"Error executing query: {e}\")\n",
        "finally:\n",
        "    # Close the connection\n",
        "    conn.close()"
      ],
      "execution_count": 4,
      "outputs": [
        {
          "output_type": "stream",
          "name": "stdout",
          "text": [
            "Tables in the database:\n"
          ]
        }
      ]
    },
    {
      "cell_type": "markdown",
      "source": [
        "Solution 4 :"
      ],
      "metadata": {
        "id": "SIUo-Q_PJFo6"
      }
    },
    {
      "cell_type": "code",
      "source": [
        "import sqlite3\n",
        "conn = sqlite3.connect('employees.db')\n",
        "cursor = conn.cursor()\n",
        "select_query = \"\"\"\n",
        "SELECT DISTINCT country FROM country;\n",
        "\"\"\"\n",
        "\n",
        "# Execute the SQL query\n",
        "try:\n",
        "    cursor.execute(select_query)\n",
        "    results = cursor.fetchall()\n",
        "\n",
        "    # Print the results\n",
        "    for row in results:\n",
        "        print(row[0]) # Assuming the country name is the first column\n",
        "\n",
        "except sqlite3.Error as e:\n",
        "    print(f\"Error executing query: {e}\")\n",
        "finally:\n",
        "    # Close the connection\n",
        "    conn.close()"
      ],
      "metadata": {
        "colab": {
          "base_uri": "https://localhost:8080/"
        },
        "id": "gbVmdeEqI5Yi",
        "outputId": "2f8153f0-d9b5-4260-cab9-b546b3ddf475"
      },
      "execution_count": 7,
      "outputs": [
        {
          "output_type": "stream",
          "name": "stdout",
          "text": [
            "Error executing query: no such table: country\n"
          ]
        }
      ]
    },
    {
      "cell_type": "markdown",
      "source": [
        "Solution 5:"
      ],
      "metadata": {
        "id": "E_fw6lW4Jw44"
      }
    },
    {
      "cell_type": "code",
      "source": [
        "import sqlite3\n",
        "conn = sqlite3.connect('employees.db')\n",
        "cursor = conn.cursor()\n",
        "select_query = \"\"\"\n",
        "SELECT * FROM customer WHERE active = 1;\n",
        "\"\"\"\n",
        "\n",
        "# Execute the SQL query\n",
        "try:\n",
        "    cursor.execute(select_query)\n",
        "    results = cursor.fetchall()\n",
        "\n",
        "    # Print the results\n",
        "    for row in results:\n",
        "        print(row)\n",
        "\n",
        "except sqlite3.Error as e:\n",
        "    print(f\"Error executing query: {e}\")\n",
        "finally:\n",
        "    # Close the connection\n",
        "    conn.close()"
      ],
      "metadata": {
        "colab": {
          "base_uri": "https://localhost:8080/"
        },
        "id": "ADS6CjDuI5VP",
        "outputId": "5c1dd537-e09e-40c5-b5a0-fe4eefddf35e"
      },
      "execution_count": 10,
      "outputs": [
        {
          "output_type": "stream",
          "name": "stdout",
          "text": [
            "Error executing query: no such table: customer\n"
          ]
        }
      ]
    },
    {
      "cell_type": "markdown",
      "source": [
        "Solution 6:"
      ],
      "metadata": {
        "id": "lWzpVHFlKhn1"
      }
    },
    {
      "cell_type": "code",
      "source": [
        "import sqlite3\n",
        "\n",
        "conn = sqlite3.connect('employees.db')\n",
        "cursor = conn.cursor()\n",
        "\n",
        "select_query = \"\"\"\n",
        "SELECT rental_id FROM rental WHERE customer_id = 1;\n",
        "\"\"\"\n",
        "\n",
        "# Execute the SQL query\n",
        "try:\n",
        "    cursor.execute(select_query)\n",
        "    results = cursor.fetchall()\n",
        "\n",
        "    # Print the results\n",
        "    for row in results:\n",
        "        print(row[0]) # Assuming rental_id is the first column\n",
        "\n",
        "except sqlite3.Error as e:\n",
        "    print(f\"Error executing query: {e}\")\n",
        "finally:\n",
        "    # Close the connection\n",
        "    conn.close()"
      ],
      "metadata": {
        "colab": {
          "base_uri": "https://localhost:8080/"
        },
        "id": "q5qalQycI5S8",
        "outputId": "b5023742-db86-4e0a-d5b2-8d6522f982c2"
      },
      "execution_count": 13,
      "outputs": [
        {
          "output_type": "stream",
          "name": "stdout",
          "text": [
            "Error executing query: no such table: rental\n"
          ]
        }
      ]
    },
    {
      "cell_type": "markdown",
      "source": [
        "Solution 7:"
      ],
      "metadata": {
        "id": "u1N0U1wULEu2"
      }
    },
    {
      "cell_type": "code",
      "source": [
        "import sqlite3\n",
        "conn = sqlite3.connect('employees.db')\n",
        "cursor = conn.cursor()\n",
        "\n",
        "select_query = \"\"\"\n",
        "SELECT * FROM film WHERE rental_duration > 5;\n",
        "\"\"\"\n",
        "\n",
        "# Execute the SQL query\n",
        "try:\n",
        "    cursor.execute(select_query)\n",
        "    results = cursor.fetchall()\n",
        "\n",
        "    # Print the results\n",
        "    for row in results:\n",
        "        print(row)\n",
        "\n",
        "except sqlite3.Error as e:\n",
        "    print(f\"Error executing query: {e}\")\n",
        "finally:\n",
        "    # Close the connection\n",
        "    conn.close()"
      ],
      "metadata": {
        "colab": {
          "base_uri": "https://localhost:8080/"
        },
        "id": "0ERtWUedI5Pc",
        "outputId": "e75c5ff4-182c-43c6-d6eb-ab8225281bb5"
      },
      "execution_count": 16,
      "outputs": [
        {
          "output_type": "stream",
          "name": "stdout",
          "text": [
            "Error executing query: no such table: film\n"
          ]
        }
      ]
    },
    {
      "cell_type": "markdown",
      "source": [
        "Solution 8:"
      ],
      "metadata": {
        "id": "1OAfJrQxLeSX"
      }
    },
    {
      "cell_type": "code",
      "source": [
        "import sqlite3\n",
        "\n",
        "conn = sqlite3.connect('employees.db')\n",
        "cursor = conn.cursor()\n",
        "\n",
        "select_query = \"\"\"\n",
        "SELECT COUNT(*) FROM film WHERE replacement_cost > 15 AND replacement_cost < 20;\n",
        "\"\"\"\n",
        "\n",
        "# Execute the SQL query\n",
        "try:\n",
        "    cursor.execute(select_query)\n",
        "    result = cursor.fetchone()\n",
        "\n",
        "    # Print the result\n",
        "    if result:\n",
        "        print(f\"Number of films with replacement cost between 15 and 20: {result[0]}\")\n",
        "    else:\n",
        "        print(\"No films found matching the criteria.\")\n",
        "\n",
        "\n",
        "except sqlite3.Error as e:\n",
        "    print(f\"Error executing query: {e}\")\n",
        "finally:\n",
        "    # Close the connection\n",
        "    conn.close()"
      ],
      "metadata": {
        "colab": {
          "base_uri": "https://localhost:8080/"
        },
        "id": "het6x3ZBI5Na",
        "outputId": "4ab888aa-d87e-43bd-f030-2307cabecb34"
      },
      "execution_count": 19,
      "outputs": [
        {
          "output_type": "stream",
          "name": "stdout",
          "text": [
            "Error executing query: no such table: film\n"
          ]
        }
      ]
    },
    {
      "cell_type": "markdown",
      "source": [
        "Solution 9 :"
      ],
      "metadata": {
        "id": "90QIf-4gMOOi"
      }
    },
    {
      "cell_type": "code",
      "source": [
        "import sqlite3\n",
        "\n",
        "conn = sqlite3.connect('employees.db')\n",
        "cursor = conn.cursor()\n",
        "\n",
        "select_query = \"\"\"\n",
        "SELECT COUNT(DISTINCT first_name) FROM actor;\n",
        "\"\"\"\n",
        "\n",
        "try:\n",
        "    cursor.execute(select_query)\n",
        "    result = cursor.fetchone()\n",
        "\n",
        "    # Print the result\n",
        "    if result:\n",
        "        print(f\"Number of distinct first names in the actor table: {result[0]}\")\n",
        "    else:\n",
        "        print(\"No distinct first names found.\")\n",
        "\n",
        "except sqlite3.Error as e:\n",
        "    print(f\"Error executing query: {e}\")\n",
        "finally:\n",
        "    # Close the connection\n",
        "    conn.close()"
      ],
      "metadata": {
        "colab": {
          "base_uri": "https://localhost:8080/"
        },
        "id": "HVnxp2WhMVpb",
        "outputId": "dc1e29af-e42e-45d3-f17e-55c8d777fcb2"
      },
      "execution_count": 22,
      "outputs": [
        {
          "output_type": "stream",
          "name": "stdout",
          "text": [
            "Error executing query: no such table: actor\n"
          ]
        }
      ]
    },
    {
      "cell_type": "markdown",
      "source": [
        "Solution 10 :"
      ],
      "metadata": {
        "id": "IFbvsOGeM7PA"
      }
    },
    {
      "cell_type": "code",
      "source": [
        "import sqlite3\n",
        "conn = sqlite3.connect('employees.db')\n",
        "cursor = conn.cursor()\n",
        "\n",
        "select_query = \"\"\"\n",
        "SELECT * FROM customer LIMIT 10;\n",
        "\"\"\"\n",
        "\n",
        "# Execute the SQL query\n",
        "try:\n",
        "    cursor.execute(select_query)\n",
        "    results = cursor.fetchall()\n",
        "\n",
        "    # Print the results\n",
        "    for row in results:\n",
        "        print(row)\n",
        "\n",
        "except sqlite3.Error as e:\n",
        "    print(f\"Error executing query: {e}\")\n",
        "finally:\n",
        "    # Close the connection\n",
        "    conn.close()"
      ],
      "metadata": {
        "colab": {
          "base_uri": "https://localhost:8080/"
        },
        "id": "tQOZQUA8I5Jx",
        "outputId": "653ea09b-ddc8-4f19-dc9b-d234c83dc006"
      },
      "execution_count": 25,
      "outputs": [
        {
          "output_type": "stream",
          "name": "stdout",
          "text": [
            "Error executing query: no such table: customer\n"
          ]
        }
      ]
    },
    {
      "cell_type": "markdown",
      "source": [
        "Solution 11:"
      ],
      "metadata": {
        "id": "C_9igTnSNzpK"
      }
    },
    {
      "cell_type": "code",
      "source": [
        "import sqlite3\n",
        "\n",
        "conn = sqlite3.connect('employees.db')\n",
        "cursor = conn.cursor()\n",
        "\n",
        "select_query = \"\"\"\n",
        "SELECT * FROM customer WHERE first_name LIKE 'B%' LIMIT 3;\n",
        "\"\"\"\n",
        "\n",
        "# Execute the SQL query\n",
        "try:\n",
        "    cursor.execute(select_query)\n",
        "    results = cursor.fetchall()\n",
        "\n",
        "    # Print the results\n",
        "    for row in results:\n",
        "        print(row)\n",
        "\n",
        "except sqlite3.Error as e:\n",
        "    print(f\"Error executing query: {e}\")\n",
        "finally:\n",
        "    # Close the connection\n",
        "    conn.close()"
      ],
      "metadata": {
        "colab": {
          "base_uri": "https://localhost:8080/"
        },
        "id": "1ZhM3eBkI5Hs",
        "outputId": "138012db-a7ed-4fc7-bd39-84637688cfef"
      },
      "execution_count": 28,
      "outputs": [
        {
          "output_type": "stream",
          "name": "stdout",
          "text": [
            "Error executing query: no such table: customer\n"
          ]
        }
      ]
    },
    {
      "cell_type": "markdown",
      "source": [
        "Solution 12:"
      ],
      "metadata": {
        "id": "MgrZpB_iOyaB"
      }
    },
    {
      "cell_type": "code",
      "source": [
        "import sqlite3\n",
        "\n",
        "conn = sqlite3.connect('employees.db')\n",
        "cursor = conn.cursor()\n",
        "\n",
        "select_query = \"\"\"\n",
        "SELECT title FROM film WHERE rating = 'G' LIMIT 5;\n",
        "\"\"\"\n",
        "\n",
        "# Execute the SQL query\n",
        "try:\n",
        "    cursor.execute(select_query)\n",
        "    results = cursor.fetchall()\n",
        "\n",
        "    # Print the results\n",
        "    for row in results:\n",
        "        print(row[0]) # Assuming title is the first column\n",
        "\n",
        "except sqlite3.Error as e:\n",
        "    print(f\"Error executing query: {e}\")\n",
        "finally:\n",
        "    # Close the connection\n",
        "    conn.close()"
      ],
      "metadata": {
        "colab": {
          "base_uri": "https://localhost:8080/"
        },
        "id": "DZMgtWVbI5EF",
        "outputId": "2b6f6ace-35ef-48e1-8185-f2c586cb1a7f"
      },
      "execution_count": 32,
      "outputs": [
        {
          "output_type": "stream",
          "name": "stdout",
          "text": [
            "Error executing query: no such table: film\n"
          ]
        }
      ]
    },
    {
      "cell_type": "markdown",
      "source": [
        "Solution 13:"
      ],
      "metadata": {
        "id": "WDLt5-5tPTVh"
      }
    },
    {
      "cell_type": "code",
      "source": [
        "import sqlite3\n",
        "conn = sqlite3.connect('employees.db')\n",
        "cursor = conn.cursor()\n",
        "\n",
        "select_query = \"\"\"\n",
        "SELECT * FROM customer WHERE first_name LIKE 'A%';\n",
        "\"\"\"\n",
        "\n",
        "# Execute the SQL query\n",
        "try:\n",
        "    cursor.execute(select_query)\n",
        "    results = cursor.fetchall()\n",
        "\n",
        "    # Print the results\n",
        "    for row in results:\n",
        "        print(row)\n",
        "\n",
        "except sqlite3.Error as e:\n",
        "    print(f\"Error executing query: {e}\")\n",
        "finally:\n",
        "    # Close the connection\n",
        "    conn.close()"
      ],
      "metadata": {
        "colab": {
          "base_uri": "https://localhost:8080/"
        },
        "id": "e8bWSI8oI5CB",
        "outputId": "f902d3e2-b855-470e-d0b7-a515a0964966"
      },
      "execution_count": 35,
      "outputs": [
        {
          "output_type": "stream",
          "name": "stdout",
          "text": [
            "Error executing query: no such table: customer\n"
          ]
        }
      ]
    },
    {
      "cell_type": "markdown",
      "source": [
        "Solution 14:"
      ],
      "metadata": {
        "id": "g1qkdXP1Qq3X"
      }
    },
    {
      "cell_type": "code",
      "source": [
        "import sqlite3\n",
        "conn = sqlite3.connect('employees.db')\n",
        "cursor = conn.cursor()\n",
        "select_query = \"\"\"\n",
        "SELECT * FROM customer WHERE first_name LIKE '%a';\n",
        "\"\"\"\n",
        "\n",
        "# Execute the SQL query\n",
        "try:\n",
        "    cursor.execute(select_query)\n",
        "    results = cursor.fetchall()\n",
        "\n",
        "    # Print the results\n",
        "    for row in results:\n",
        "        print(row)\n",
        "\n",
        "except sqlite3.Error as e:\n",
        "    print(f\"Error executing query: {e}\")\n",
        "finally:\n",
        "    # Close the connection\n",
        "    conn.close()"
      ],
      "metadata": {
        "colab": {
          "base_uri": "https://localhost:8080/"
        },
        "id": "ZeCQBxIhI4_P",
        "outputId": "2dfc1de9-026e-4885-a8c4-7963d5ba8ddf"
      },
      "execution_count": 37,
      "outputs": [
        {
          "output_type": "stream",
          "name": "stdout",
          "text": [
            "Error executing query: no such table: customer\n"
          ]
        }
      ]
    },
    {
      "cell_type": "markdown",
      "source": [
        "Solution 15:"
      ],
      "metadata": {
        "id": "I_b2W_ANRxy7"
      }
    },
    {
      "cell_type": "code",
      "source": [
        "import sqlite3\n",
        "\n",
        "conn = sqlite3.connect('employees.db')\n",
        "cursor = conn.cursor()\n",
        "\n",
        "select_query = \"\"\"\n",
        "SELECT city FROM city WHERE city LIKE 'a%a' LIMIT 4;\n",
        "\"\"\"\n",
        "\n",
        "# Execute the SQL query\n",
        "try:\n",
        "    cursor.execute(select_query)\n",
        "    results = cursor.fetchall()\n",
        "\n",
        "    # Print the results\n",
        "    for row in results:\n",
        "        print(row[0]) # Assuming city name is the first column\n",
        "\n",
        "except sqlite3.Error as e:\n",
        "    print(f\"Error executing query: {e}\")\n",
        "finally:\n",
        "    # Close the connection\n",
        "    conn.close()"
      ],
      "metadata": {
        "colab": {
          "base_uri": "https://localhost:8080/"
        },
        "id": "MRD-BVOZI48C",
        "outputId": "ead259b5-4154-4341-ee4b-80de6218ae41"
      },
      "execution_count": 39,
      "outputs": [
        {
          "output_type": "stream",
          "name": "stdout",
          "text": [
            "Error executing query: no such table: city\n"
          ]
        }
      ]
    },
    {
      "cell_type": "markdown",
      "source": [
        "Solution 16:"
      ],
      "metadata": {
        "id": "FugCKoXxSZuy"
      }
    },
    {
      "cell_type": "code",
      "source": [
        "import sqlite3\n",
        "conn = sqlite3.connect('employees.db')\n",
        "cursor = conn.cursor()\n",
        "select_query = \"\"\"\n",
        "SELECT * FROM customer WHERE first_name LIKE '%NI%';\n",
        "\"\"\"\n",
        "\n",
        "# Execute the SQL query\n",
        "try:\n",
        "    cursor.execute(select_query)\n",
        "    results = cursor.fetchall()\n",
        "\n",
        "    # Print the results\n",
        "    for row in results:\n",
        "        print(row)\n",
        "\n",
        "except sqlite3.Error as e:\n",
        "    print(f\"Error executing query: {e}\")\n",
        "finally:\n",
        "    # Close the connection\n",
        "    conn.close()"
      ],
      "metadata": {
        "colab": {
          "base_uri": "https://localhost:8080/"
        },
        "id": "2aPs2EucI44k",
        "outputId": "bbd633c9-a863-4f04-caea-b555e5a708f0"
      },
      "execution_count": 42,
      "outputs": [
        {
          "output_type": "stream",
          "name": "stdout",
          "text": [
            "Error executing query: no such table: customer\n"
          ]
        }
      ]
    },
    {
      "cell_type": "markdown",
      "source": [
        "Solution 17 :"
      ],
      "metadata": {
        "id": "lXBn76ZkTLIg"
      }
    },
    {
      "cell_type": "code",
      "source": [
        "import sqlite3\n",
        "conn = sqlite3.connect('employees.db')\n",
        "cursor = conn.cursor()\n",
        "\n",
        "select_query = \"\"\"\n",
        "SELECT * FROM customer WHERE first_name LIKE '_r%';\n",
        "\"\"\"\n",
        "\n",
        "# Execute the SQL query\n",
        "try:\n",
        "    cursor.execute(select_query)\n",
        "    results = cursor.fetchall()\n",
        "\n",
        "    # Print the results\n",
        "    for row in results:\n",
        "        print(row)\n",
        "\n",
        "except sqlite3.Error as e:\n",
        "    print(f\"Error executing query: {e}\")\n",
        "finally:\n",
        "    # Close the connection\n",
        "    conn.close()"
      ],
      "metadata": {
        "colab": {
          "base_uri": "https://localhost:8080/"
        },
        "id": "HZLZWhp3TM72",
        "outputId": "80938778-1908-48c6-c122-72930f6eb175"
      },
      "execution_count": 45,
      "outputs": [
        {
          "output_type": "stream",
          "name": "stdout",
          "text": [
            "Error executing query: no such table: customer\n"
          ]
        }
      ]
    },
    {
      "cell_type": "markdown",
      "source": [
        "Solution 18:"
      ],
      "metadata": {
        "id": "13M055vqTh8I"
      }
    },
    {
      "cell_type": "code",
      "source": [
        "import sqlite3\n",
        "\n",
        "conn = sqlite3.connect('employees.db')\n",
        "cursor = conn.cursor()\n",
        "\n",
        "select_query = \"\"\"\n",
        "SELECT * FROM customer WHERE first_name LIKE 'A____%';\n",
        "\"\"\"\n",
        "\n",
        "# Execute the SQL query\n",
        "try:\n",
        "    cursor.execute(select_query)\n",
        "    results = cursor.fetchall()\n",
        "\n",
        "    # Print the results\n",
        "    for row in results:\n",
        "        print(row)\n",
        "\n",
        "except sqlite3.Error as e:\n",
        "    print(f\"Error executing query: {e}\")\n",
        "finally:\n",
        "    # Close the connection\n",
        "    conn.close()"
      ],
      "metadata": {
        "colab": {
          "base_uri": "https://localhost:8080/"
        },
        "id": "8Wzyy6vGI42h",
        "outputId": "d2dd4a5f-72cd-4d48-8638-76575dc2e302"
      },
      "execution_count": 48,
      "outputs": [
        {
          "output_type": "stream",
          "name": "stdout",
          "text": [
            "Error executing query: no such table: customer\n"
          ]
        }
      ]
    },
    {
      "cell_type": "markdown",
      "source": [
        "Solution 18:"
      ],
      "metadata": {
        "id": "PEgi3qrvT81J"
      }
    },
    {
      "cell_type": "code",
      "source": [
        "import sqlite3\n",
        "\n",
        "conn = sqlite3.connect('employees.db')\n",
        "cursor = conn.cursor()\n",
        "\n",
        "select_query = \"\"\"\n",
        "SELECT * FROM customer WHERE first_name LIKE 'A%o';\n",
        "\"\"\"\n",
        "\n",
        "# Execute the SQL query\n",
        "try:\n",
        "    cursor.execute(select_query)\n",
        "    results = cursor.fetchall()\n",
        "\n",
        "    # Print the results\n",
        "    for row in results:\n",
        "        print(row)\n",
        "\n",
        "except sqlite3.Error as e:\n",
        "    print(f\"Error executing query: {e}\")\n",
        "finally:\n",
        "    # Close the connection\n",
        "    conn.close()"
      ],
      "metadata": {
        "colab": {
          "base_uri": "https://localhost:8080/"
        },
        "id": "s3KHQsaKI4y8",
        "outputId": "c7fbfa48-ec8e-42c8-ebaf-fb1bd078cde0"
      },
      "execution_count": 51,
      "outputs": [
        {
          "output_type": "stream",
          "name": "stdout",
          "text": [
            "Error executing query: no such table: customer\n"
          ]
        }
      ]
    },
    {
      "cell_type": "markdown",
      "source": [
        "Solution 19:"
      ],
      "metadata": {
        "id": "lel5idfVUn5J"
      }
    },
    {
      "cell_type": "code",
      "source": [
        "import sqlite3\n",
        "\n",
        "conn = sqlite3.connect('employees.db')\n",
        "cursor = conn.cursor()\n",
        "\n",
        "select_query = \"\"\"\n",
        "SELECT * FROM film WHERE rating IN ('PG', 'PG-13');\n",
        "\"\"\"\n",
        "\n",
        "# Execute the SQL query\n",
        "try:\n",
        "    cursor.execute(select_query)\n",
        "    results = cursor.fetchall()\n",
        "\n",
        "    # Print the results\n",
        "    for row in results:\n",
        "        print(row)\n",
        "\n",
        "except sqlite3.Error as e:\n",
        "    print(f\"Error executing query: {e}\")\n",
        "finally:\n",
        "    # Close the connection\n",
        "    conn.close()"
      ],
      "metadata": {
        "colab": {
          "base_uri": "https://localhost:8080/"
        },
        "id": "s-FStAMWI4wy",
        "outputId": "9f072b8e-a4be-4282-ecbc-5eb106e2368d"
      },
      "execution_count": 54,
      "outputs": [
        {
          "output_type": "stream",
          "name": "stdout",
          "text": [
            "Error executing query: no such table: film\n"
          ]
        }
      ]
    },
    {
      "cell_type": "markdown",
      "source": [
        "Solution 20 :"
      ],
      "metadata": {
        "id": "083vSa4la8nR"
      }
    },
    {
      "cell_type": "code",
      "source": [
        "import sqlite3\n",
        "\n",
        "conn = sqlite3.connect('employees.db')\n",
        "cursor = conn.cursor()\n",
        "select_query = \"\"\"\n",
        "SELECT * FROM film WHERE rating IN ('PG', 'PG-13');\n",
        "\"\"\"\n",
        "\n",
        "# Execute the SQL query\n",
        "try:\n",
        "    cursor.execute(select_query)\n",
        "    results = cursor.fetchall()\n",
        "\n",
        "    # Print the results\n",
        "    for row in results:\n",
        "        print(row)\n",
        "\n",
        "except sqlite3.Error as e:\n",
        "    print(f\"Error executing query: {e}\")\n",
        "finally:\n",
        "    # Close the connection\n",
        "    conn.close()"
      ],
      "metadata": {
        "colab": {
          "base_uri": "https://localhost:8080/"
        },
        "id": "IbSEGXgHa-bK",
        "outputId": "284d5c97-edc5-4975-fb77-df6b1d14f4f3"
      },
      "execution_count": 57,
      "outputs": [
        {
          "output_type": "stream",
          "name": "stdout",
          "text": [
            "Error executing query: no such table: film\n"
          ]
        }
      ]
    },
    {
      "cell_type": "markdown",
      "source": [
        "Solution 21:"
      ],
      "metadata": {
        "id": "9TtmcDORbWrL"
      }
    },
    {
      "cell_type": "code",
      "source": [
        "import sqlite3\n",
        "\n",
        "conn = sqlite3.connect('employees.db')\n",
        "cursor = conn.cursor()\n",
        "\n",
        "select_query = \"\"\"\n",
        "SELECT * FROM film WHERE length BETWEEN 50 AND 100;\n",
        "\"\"\"\n",
        "\n",
        "# Execute the SQL query\n",
        "try:\n",
        "    cursor.execute(select_query)\n",
        "    results = cursor.fetchall()\n",
        "\n",
        "    # Print the results\n",
        "    for row in results:\n",
        "        print(row)\n",
        "\n",
        "except sqlite3.Error as e:\n",
        "    print(f\"Error executing query: {e}\")\n",
        "finally:\n",
        "    # Close the connection\n",
        "    conn.close()"
      ],
      "metadata": {
        "colab": {
          "base_uri": "https://localhost:8080/"
        },
        "id": "VeO1Py55I4s6",
        "outputId": "3b94fca7-b009-4571-db86-e99f5199459d"
      },
      "execution_count": 60,
      "outputs": [
        {
          "output_type": "stream",
          "name": "stdout",
          "text": [
            "Error executing query: no such table: film\n"
          ]
        }
      ]
    },
    {
      "cell_type": "markdown",
      "source": [
        "Solution 22"
      ],
      "metadata": {
        "id": "2H4LT0frbs9B"
      }
    },
    {
      "cell_type": "code",
      "source": [
        "import sqlite3\n",
        "\n",
        "conn = sqlite3.connect('employees.db')\n",
        "cursor = conn.cursor()\n",
        "\n",
        "select_query = \"\"\"\n",
        "SELECT * FROM actor LIMIT 50;\n",
        "\"\"\"\n",
        "\n",
        "# Execute the SQL query\n",
        "try:\n",
        "    cursor.execute(select_query)\n",
        "    results = cursor.fetchall()\n",
        "\n",
        "    # Print the results\n",
        "    for row in results:\n",
        "        print(row)\n",
        "\n",
        "except sqlite3.Error as e:\n",
        "    print(f\"Error executing query: {e}\")\n",
        "finally:\n",
        "    # Close the connection\n",
        "    conn.close()"
      ],
      "metadata": {
        "colab": {
          "base_uri": "https://localhost:8080/"
        },
        "id": "dDM4U0EJI4qx",
        "outputId": "a1151727-6aba-4764-f9af-a8b4c85572c3"
      },
      "execution_count": 63,
      "outputs": [
        {
          "output_type": "stream",
          "name": "stdout",
          "text": [
            "Error executing query: no such table: actor\n"
          ]
        }
      ]
    },
    {
      "cell_type": "markdown",
      "source": [
        "**Basic Aggregate Functions**"
      ],
      "metadata": {
        "id": "Rt83UFD7cZJW"
      }
    },
    {
      "cell_type": "markdown",
      "source": [
        "Solution 1:"
      ],
      "metadata": {
        "id": "A3M9LVxJcfYq"
      }
    },
    {
      "cell_type": "code",
      "source": [
        "import sqlite3\n",
        "conn = sqlite3.connect('employees.db')\n",
        "cursor = conn.cursor()\n",
        "\n",
        "select_query = \"\"\"\n",
        "SELECT COUNT(*) AS total_rentals FROM rental;\n",
        "\"\"\"\n",
        "\n",
        "# Execute the SQL query\n",
        "try:\n",
        "    cursor.execute(select_query)\n",
        "    result = cursor.fetchone()\n",
        "\n",
        "    # Print the result\n",
        "    if result:\n",
        "        print(f\"Total rentals: {result[0]}\")\n",
        "    else:\n",
        "        print(\"Could not retrieve total rentals.\")\n",
        "\n",
        "\n",
        "except sqlite3.Error as e:\n",
        "    print(f\"Error executing query: {e}\")\n",
        "finally:\n",
        "    # Close the connection\n",
        "    conn.close()"
      ],
      "metadata": {
        "colab": {
          "base_uri": "https://localhost:8080/"
        },
        "id": "j7zSYvGWI4mZ",
        "outputId": "fc18fec1-9db0-4b0c-c2b2-c9373f5b0b07"
      },
      "execution_count": 66,
      "outputs": [
        {
          "output_type": "stream",
          "name": "stdout",
          "text": [
            "Error executing query: no such table: rental\n"
          ]
        }
      ]
    },
    {
      "cell_type": "markdown",
      "source": [
        "Solution 2:"
      ],
      "metadata": {
        "id": "zIEdPbAHc05i"
      }
    },
    {
      "cell_type": "code",
      "source": [
        "import sqlite3\n",
        "\n",
        "conn = sqlite3.connect('employees.db')\n",
        "cursor = conn.cursor()\n",
        "\n",
        "select_query = \"\"\"\n",
        "SELECT AVG(rental_duration) AS average_rental_duration FROM film;\n",
        "\"\"\"\n",
        "\n",
        "# Execute the SQL query\n",
        "try:\n",
        "    cursor.execute(select_query)\n",
        "    result = cursor.fetchone()\n",
        "\n",
        "    # Print the result\n",
        "    if result:\n",
        "        print(f\"Average rental duration: {result[0]}\")\n",
        "    else:\n",
        "        print(\"Could not retrieve average rental duration.\")\n",
        "\n",
        "except sqlite3.Error as e:\n",
        "    print(f\"Error executing query: {e}\")\n",
        "finally:\n",
        "    # Close the connection\n",
        "    conn.close()"
      ],
      "metadata": {
        "colab": {
          "base_uri": "https://localhost:8080/"
        },
        "id": "WuMvXWIgI4km",
        "outputId": "1ff9f9a3-2587-4089-ce76-a83e47c6a263"
      },
      "execution_count": 69,
      "outputs": [
        {
          "output_type": "stream",
          "name": "stdout",
          "text": [
            "Error executing query: no such table: film\n"
          ]
        }
      ]
    },
    {
      "cell_type": "markdown",
      "source": [
        "Solution 3:"
      ],
      "metadata": {
        "id": "sqtC_wvfdQjN"
      }
    },
    {
      "cell_type": "code",
      "source": [
        "import sqlite3\n",
        "\n",
        "\n",
        "conn = sqlite3.connect('employees.db')\n",
        "cursor = conn.cursor()\n",
        "\n",
        "select_query = \"\"\"\n",
        "SELECT UPPER(first_name), UPPER(last_name) FROM customer;\n",
        "\"\"\"\n",
        "\n",
        "# Execute the SQL query\n",
        "try:\n",
        "    cursor.execute(select_query)\n",
        "    results = cursor.fetchall()\n",
        "\n",
        "    # Print the results\n",
        "    for row in results:\n",
        "        print(row)\n",
        "\n",
        "except sqlite3.Error as e:\n",
        "    print(f\"Error executing query: {e}\")\n",
        "finally:\n",
        "    # Close the connection\n",
        "    conn.close()"
      ],
      "metadata": {
        "colab": {
          "base_uri": "https://localhost:8080/"
        },
        "id": "qpGziQ4Nc2pf",
        "outputId": "2cdf2d86-68a8-4ed6-8d88-4d96661b426a"
      },
      "execution_count": 72,
      "outputs": [
        {
          "output_type": "stream",
          "name": "stdout",
          "text": [
            "Error executing query: no such table: customer\n"
          ]
        }
      ]
    },
    {
      "cell_type": "markdown",
      "source": [
        "Solution 4 :"
      ],
      "metadata": {
        "id": "NN4SFhUqeGCd"
      }
    },
    {
      "cell_type": "code",
      "source": [
        "import sqlite3\n",
        "\n",
        "conn = sqlite3.connect('employees.db')\n",
        "cursor = conn.cursor()\n",
        "\n",
        "select_query = \"\"\"\n",
        "SELECT rental_id, strftime('%m', rental_date) AS rental_month FROM rental;\n",
        "\"\"\"\n",
        "\n",
        "# Execute the SQL query\n",
        "try:\n",
        "    cursor.execute(select_query)\n",
        "    results = cursor.fetchall()\n",
        "\n",
        "    # Print the results\n",
        "    for row in results:\n",
        "        print(row)\n",
        "\n",
        "except sqlite3.Error as e:\n",
        "    print(f\"Error executing query: {e}\")\n",
        "finally:\n",
        "    # Close the connection\n",
        "    conn.close()"
      ],
      "metadata": {
        "colab": {
          "base_uri": "https://localhost:8080/"
        },
        "id": "IN7a40eieHeg",
        "outputId": "fc794275-d9ae-4c13-ebd5-03f57f306ed8"
      },
      "execution_count": 75,
      "outputs": [
        {
          "output_type": "stream",
          "name": "stdout",
          "text": [
            "Error executing query: no such table: rental\n"
          ]
        }
      ]
    },
    {
      "cell_type": "markdown",
      "source": [
        "Soluton 5 :"
      ],
      "metadata": {
        "id": "Mt87V1RBeF_k"
      }
    },
    {
      "cell_type": "code",
      "source": [
        "import sqlite3\n",
        "\n",
        "# Connect to the database (replace 'your_database.db' with your database file name)\n",
        "# Assuming the database you want to query is 'employees.db' based on previous cells.\n",
        "# If your 'rental' table is in a different database, please change 'employees.db' accordingly.\n",
        "conn = sqlite3.connect('employees.db')\n",
        "cursor = conn.cursor()\n",
        "\n",
        "# SQL query to select the 'customer_id' and count the number of rentals for each customer from the 'rental' table\n",
        "# Note: The 'rental' table does not exist in the 'employees.db' database created earlier.\n",
        "# This query will likely result in an error \"no such table: rental\".\n",
        "# If you intended to query a different database or table, please update the connection or query accordingly.\n",
        "select_query = \"\"\"\n",
        "SELECT customer_id, COUNT(*) AS rental_count FROM rental GROUP BY customer_id;\n",
        "\"\"\"\n",
        "\n",
        "# Execute the SQL query\n",
        "try:\n",
        "    cursor.execute(select_query)\n",
        "    results = cursor.fetchall()\n",
        "\n",
        "    # Print the results\n",
        "    for row in results:\n",
        "        print(row)\n",
        "\n",
        "except sqlite3.Error as e:\n",
        "    print(f\"Error executing query: {e}\")\n",
        "finally:\n",
        "    # Close the connection\n",
        "    conn.close()"
      ],
      "metadata": {
        "colab": {
          "base_uri": "https://localhost:8080/"
        },
        "id": "xM67z3wmgEVt",
        "outputId": "840c9163-d4b0-4c71-fcdf-1ae0d26a6d50"
      },
      "execution_count": 77,
      "outputs": [
        {
          "output_type": "stream",
          "name": "stdout",
          "text": [
            "Error executing query: no such table: rental\n"
          ]
        }
      ]
    },
    {
      "cell_type": "markdown",
      "source": [
        " **GROUP BY (Continued)**"
      ],
      "metadata": {
        "id": "ltLt-4yFgoxp"
      }
    },
    {
      "cell_type": "markdown",
      "source": [
        "Solution 6 :"
      ],
      "metadata": {
        "id": "xkgGdmuQgSwO"
      }
    },
    {
      "cell_type": "code",
      "source": [
        "import sqlite3\n",
        "\n",
        "# Connect to the database (replace 'your_database.db' with your database file name)\n",
        "# Assuming the database you want to query is 'employees.db' based on previous cells.\n",
        "# If your tables ('store', 'staff', 'payment') are in a different database, please change 'employees.db' accordingly.\n",
        "conn = sqlite3.connect('employees.db')\n",
        "cursor = conn.cursor()\n",
        "\n",
        "# SQL query to calculate the total revenue for each store by joining 'store', 'staff', and 'payment' tables\n",
        "# Note: The tables ('store', 'staff', 'payment') do not exist in the 'employees.db' database created earlier.\n",
        "# This query will likely result in an error \"no such table: store\".\n",
        "# If you intended to query different tables or a different database, please update the connection or query accordingly.\n",
        "select_query = \"\"\"\n",
        "SELECT\n",
        "    s.store_id,\n",
        "    SUM(p.amount) AS total_revenue\n",
        "FROM\n",
        "    store s\n",
        "JOIN\n",
        "    staff st ON s.store_id = st.store_id\n",
        "JOIN\n",
        "    payment p ON st.staff_id = p.staff_id\n",
        "GROUP BY\n",
        "    s.store_id;\n",
        "\"\"\"\n",
        "\n",
        "# Execute the SQL query\n",
        "try:\n",
        "    cursor.execute(select_query)\n",
        "    results = cursor.fetchall()\n",
        "\n",
        "    # Print the results\n",
        "    for row in results:\n",
        "        print(row)\n",
        "\n",
        "except sqlite3.Error as e:\n",
        "    print(f\"Error executing query: {e}\")\n",
        "finally:\n",
        "    # Close the connection\n",
        "    conn.close()"
      ],
      "metadata": {
        "colab": {
          "base_uri": "https://localhost:8080/"
        },
        "id": "fHTbJSpPgSCI",
        "outputId": "dd878d61-73a3-4396-e766-d0c7e6e0ab34"
      },
      "execution_count": 79,
      "outputs": [
        {
          "output_type": "stream",
          "name": "stdout",
          "text": [
            "Error executing query: no such table: store\n"
          ]
        }
      ]
    },
    {
      "cell_type": "markdown",
      "source": [
        "Solution 7:"
      ],
      "metadata": {
        "id": "tq2CfXPReF8y"
      }
    },
    {
      "cell_type": "code",
      "source": [
        "import sqlite3\n",
        "\n",
        "# Connect to the database (replace 'your_database.db' with your database file name)\n",
        "# Assuming the database you want to query is 'employees.db' based on previous cells.\n",
        "# If your tables ('film_category', 'film', 'inventory', 'rental') are in a different database, please change 'employees.db' accordingly.\n",
        "conn = sqlite3.connect('employees.db')\n",
        "cursor = conn.cursor()\n",
        "\n",
        "# SQL query to calculate the total number of rentals for each category by joining multiple tables\n",
        "# Note: The tables ('film_category', 'film', 'inventory', 'rental') do not exist in the 'employees.db' database created earlier.\n",
        "# This query will likely result in an error \"no such table: film_category\".\n",
        "# If you intended to query different tables or a different database, please update the connection or query accordingly.\n",
        "select_query = \"\"\"\n",
        "SELECT\n",
        "    fc.category_id,\n",
        "    COUNT(r.rental_id) AS total_rentals\n",
        "FROM\n",
        "    film_category fc\n",
        "JOIN\n",
        "    film f ON fc.film_id = f.film_id\n",
        "JOIN\n",
        "    inventory i ON f.film_id = i.film_id\n",
        "JOIN\n",
        "    rental r ON i.inventory_id = r.inventory_id\n",
        "GROUP BY\n",
        "    fc.category_id;\n",
        "\"\"\"\n",
        "\n",
        "# Execute the SQL query\n",
        "try:\n",
        "    cursor.execute(select_query)\n",
        "    results = cursor.fetchall()\n",
        "\n",
        "    # Print the results\n",
        "    for row in results:\n",
        "        print(row)\n",
        "\n",
        "except sqlite3.Error as e:\n",
        "    print(f\"Error executing query: {e}\")\n",
        "finally:\n",
        "    # Close the connection\n",
        "    conn.close()"
      ],
      "metadata": {
        "colab": {
          "base_uri": "https://localhost:8080/"
        },
        "id": "VjwMLmmfh4Dr",
        "outputId": "3dc3bfd6-a76d-4c02-fd56-cb620862476f"
      },
      "execution_count": 81,
      "outputs": [
        {
          "output_type": "stream",
          "name": "stdout",
          "text": [
            "Error executing query: no such table: film_category\n"
          ]
        }
      ]
    },
    {
      "cell_type": "markdown",
      "source": [
        "Solution 8 :"
      ],
      "metadata": {
        "id": "hrvip2jkiNfn"
      }
    },
    {
      "cell_type": "code",
      "source": [
        "import sqlite3\n",
        "\n",
        "# Connect to the database (replace 'your_database.db' with your database file name)\n",
        "# Assuming the database you want to query is 'employees.db' based on previous cells.\n",
        "# If your tables ('film', 'language') are in a different database, please change 'employees.db' accordingly.\n",
        "conn = sqlite3.connect('employees.db')\n",
        "cursor = conn.cursor()\n",
        "\n",
        "# SQL query to calculate the average rental rate for each language by joining 'film' and 'language' tables\n",
        "# Note: The tables ('film', 'language') do not exist in the 'employees.db' database created earlier.\n",
        "# This query will likely result in an error \"no such table: film\".\n",
        "# If you intended to query different tables or a different database, please update the connection or query accordingly.\n",
        "select_query = \"\"\"\n",
        "SELECT\n",
        "    l.name AS language,\n",
        "    AVG(f.rental_rate) AS average_rental_rate\n",
        "FROM\n",
        "    film f\n",
        "JOIN\n",
        "    language l ON f.language_id = l.language_id\n",
        "GROUP BY\n",
        "    l.name;\n",
        "\"\"\"\n",
        "\n",
        "# Execute the SQL query\n",
        "try:\n",
        "    cursor.execute(select_query)\n",
        "    results = cursor.fetchall()\n",
        "\n",
        "    # Print the results\n",
        "    for row in results:\n",
        "        print(row)\n",
        "\n",
        "except sqlite3.Error as e:\n",
        "    print(f\"Error executing query: {e}\")\n",
        "finally:\n",
        "    # Close the connection\n",
        "    conn.close()"
      ],
      "metadata": {
        "colab": {
          "base_uri": "https://localhost:8080/"
        },
        "id": "d_hZl-Mzh4A0",
        "outputId": "a4ea948e-ee12-47ea-f6ed-174fa9d2c216"
      },
      "execution_count": 83,
      "outputs": [
        {
          "output_type": "stream",
          "name": "stdout",
          "text": [
            "Error executing query: no such table: film\n"
          ]
        }
      ]
    },
    {
      "cell_type": "markdown",
      "source": [
        "Solution 9:"
      ],
      "metadata": {
        "id": "kvzfooChicY4"
      }
    },
    {
      "cell_type": "code",
      "source": [
        "import sqlite3\n",
        "\n",
        "# Connect to the database (replace 'your_database.db' with your database file name)\n",
        "# Assuming the database you want to query is 'employees.db' based on previous cells.\n",
        "# If your tables ('film', 'inventory', 'rental', 'customer') are in a different database, please change 'employees.db' accordingly.\n",
        "conn = sqlite3.connect('employees.db')\n",
        "cursor = conn.cursor()\n",
        "\n",
        "# SQL query to select film title, customer first name, and customer last name by joining multiple tables\n",
        "# Note: The tables ('film', 'inventory', 'rental', 'customer') do not exist in the 'employees.db' database created earlier.\n",
        "# This query will likely result in errors like \"no such table: film\".\n",
        "# If you intended to query different tables or a different database, please update the connection or query accordingly.\n",
        "select_query = \"\"\"\n",
        "SELECT\n",
        "    f.title,\n",
        "    c.first_name,\n",
        "    c.last_name\n",
        "FROM\n",
        "    film f\n",
        "JOIN\n",
        "    inventory i ON f.film_id = i.film_id\n",
        "JOIN\n",
        "    rental r ON i.inventory_id = r.inventory_id\n",
        "JOIN\n",
        "    customer c ON r.customer_id = c.customer_id;\n",
        "\"\"\"\n",
        "\n",
        "# Execute the SQL query\n",
        "try:\n",
        "    cursor.execute(select_query)\n",
        "    results = cursor.fetchall()\n",
        "\n",
        "    # Print the results\n",
        "    for row in results:\n",
        "        print(row)\n",
        "\n",
        "except sqlite3.Error as e:\n",
        "    print(f\"Error executing query: {e}\")\n",
        "finally:\n",
        "    # Close the connection\n",
        "    conn.close()"
      ],
      "metadata": {
        "colab": {
          "base_uri": "https://localhost:8080/"
        },
        "id": "CWoRoJ67h3-K",
        "outputId": "a96af35d-24ec-49bd-dd75-82d13f86cb5b"
      },
      "execution_count": 85,
      "outputs": [
        {
          "output_type": "stream",
          "name": "stdout",
          "text": [
            "Error executing query: no such table: film\n"
          ]
        }
      ]
    },
    {
      "cell_type": "markdown",
      "source": [
        "Solution 10"
      ],
      "metadata": {
        "id": "kCMTDvcmi1Cc"
      }
    },
    {
      "cell_type": "code",
      "source": [
        "import sqlite3\n",
        "\n",
        "# Connect to the database (replace 'your_database.db' with your database file name)\n",
        "# Assuming the database you want to query is 'employees.db' based on previous cells.\n",
        "# If your tables ('film', 'inventory', 'rental', 'customer') are in a different database, please change 'employees.db' accordingly.\n",
        "conn = sqlite3.connect('employees.db')\n",
        "cursor = conn.cursor()\n",
        "\n",
        "# SQL query to select film title, customer first name, and customer last name by joining multiple tables\n",
        "# Note: The tables ('film', 'inventory', 'rental', 'customer') do not exist in the 'employees.db' database created earlier.\n",
        "# This query will likely result in errors like \"no such table: film\".\n",
        "# If you intended to query different tables or a different database, please update the connection or query accordingly.\n",
        "select_query = \"\"\"\n",
        "SELECT\n",
        "    f.title,\n",
        "    c.first_name,\n",
        "    c.last_name\n",
        "FROM\n",
        "    film f\n",
        "JOIN\n",
        "    inventory i ON f.film_id = i.film_id\n",
        "JOIN\n",
        "    rental r ON i.inventory_id = r.inventory_id\n",
        "JOIN\n",
        "    customer c ON r.customer_id = c.customer_id;\n",
        "\"\"\"\n",
        "\n",
        "# Execute the SQL query\n",
        "try:\n",
        "    cursor.execute(select_query)\n",
        "    results = cursor.fetchall()\n",
        "\n",
        "    # Print the results\n",
        "    for row in results:\n",
        "        print(row)\n",
        "\n",
        "except sqlite3.Error as e:\n",
        "    print(f\"Error executing query: {e}\")\n",
        "finally:\n",
        "    # Close the connection\n",
        "    conn.close()"
      ],
      "metadata": {
        "colab": {
          "base_uri": "https://localhost:8080/"
        },
        "id": "p59Ed5Roh37N",
        "outputId": "b88e0e64-bfaf-4a20-aa73-f4eab02b5186"
      },
      "execution_count": 87,
      "outputs": [
        {
          "output_type": "stream",
          "name": "stdout",
          "text": [
            "Error executing query: no such table: film\n"
          ]
        }
      ]
    },
    {
      "cell_type": "markdown",
      "source": [
        "Solution 11:"
      ],
      "metadata": {
        "id": "Wc5DpGU8jKAF"
      }
    },
    {
      "cell_type": "code",
      "source": [
        "import sqlite3\n",
        "\n",
        "# Connect to the database (replace 'your_database.db' with your database file name)\n",
        "# Assuming the database you want to query is 'employees.db' based on previous cells.\n",
        "# If your tables ('customer', 'payment') are in a different database, please change 'employees.db' accordingly.\n",
        "conn = sqlite3.connect('employees.db')\n",
        "cursor = conn.cursor()\n",
        "\n",
        "# SQL query to calculate the total amount spent by each customer by joining 'customer' and 'payment' tables\n",
        "# Note: The tables ('customer', 'payment') do not exist in the 'employees.db' database created earlier.\n",
        "# This query will likely result in errors like \"no such table: customer\".\n",
        "# If you intended to query different tables or a different database, please update the connection or query accordingly.\n",
        "select_query = \"\"\"\n",
        "SELECT\n",
        "    c.first_name,\n",
        "    c.last_name,\n",
        "    SUM(p.amount) AS total_spent\n",
        "FROM\n",
        "    customer c\n",
        "JOIN\n",
        "    payment p ON c.customer_id = p.customer_id\n",
        "GROUP BY\n",
        "    c.customer_id, c.first_name, c.last_name;\n",
        "\"\"\"\n",
        "\n",
        "# Execute the SQL query\n",
        "try:\n",
        "    cursor.execute(select_query)\n",
        "    results = cursor.fetchall()\n",
        "\n",
        "    # Print the results\n",
        "    for row in results:\n",
        "        print(row)\n",
        "\n",
        "except sqlite3.Error as e:\n",
        "    print(f\"Error executing query: {e}\")\n",
        "finally:\n",
        "    # Close the connection\n",
        "    conn.close()"
      ],
      "metadata": {
        "colab": {
          "base_uri": "https://localhost:8080/"
        },
        "id": "IxbfsnI1h34V",
        "outputId": "cb58c5b5-fe47-4486-eb59-ef4f1616237a"
      },
      "execution_count": 89,
      "outputs": [
        {
          "output_type": "stream",
          "name": "stdout",
          "text": [
            "Error executing query: no such table: customer\n"
          ]
        }
      ]
    },
    {
      "cell_type": "markdown",
      "source": [
        "Solution 12:"
      ],
      "metadata": {
        "id": "ugoNQy0_jvC9"
      }
    },
    {
      "cell_type": "code",
      "source": [
        "import sqlite3\n",
        "\n",
        "# Connect to the database (replace 'your_database.db' with your database file name)\n",
        "# Assuming the database you want to query is 'employees.db' based on previous cells.\n",
        "# If your tables ('customer', 'address', 'city', 'rental', 'inventory', 'film') are in a different database, please change 'employees.db' accordingly.\n",
        "conn = sqlite3.connect('employees.db')\n",
        "cursor = conn.cursor()\n",
        "\n",
        "# SQL query to select customer first name, last name, and film title for rentals made by customers in 'London'\n",
        "# Note: The tables ('customer', 'address', 'city', 'rental', 'inventory', 'film') do not exist in the 'employees.db' database created earlier.\n",
        "# This query will likely result in errors like \"no such table: customer\".\n",
        "# If you intended to query different tables or a different database, please update the connection or query accordingly.\n",
        "select_query = \"\"\"\n",
        "SELECT\n",
        "    c.first_name,\n",
        "    c.last_name,\n",
        "    f.title\n",
        "FROM\n",
        "    customer c\n",
        "JOIN\n",
        "    address a ON c.address_id = a.address_id\n",
        "JOIN\n",
        "    city ci ON a.city_id = ci.city_id\n",
        "JOIN\n",
        "    rental r ON c.customer_id = r.customer_id\n",
        "JOIN\n",
        "    inventory i ON r.inventory_id = i.inventory_id\n",
        "JOIN\n",
        "    film f ON i.film_id = f.film_id\n",
        "WHERE\n",
        "    ci.city = 'London'\n",
        "GROUP BY\n",
        "    c.customer_id, f.film_id\n",
        "ORDER BY\n",
        "    c.last_name, c.first_name, f.title;\n",
        "\"\"\"\n",
        "\n",
        "# Execute the SQL query\n",
        "try:\n",
        "    cursor.execute(select_query)\n",
        "    results = cursor.fetchall()\n",
        "\n",
        "    # Print the results\n",
        "    for row in results:\n",
        "        print(row)\n",
        "\n",
        "except sqlite3.Error as e:\n",
        "    print(f\"Error executing query: {e}\")\n",
        "finally:\n",
        "    # Close the connection\n",
        "    conn.close()"
      ],
      "metadata": {
        "colab": {
          "base_uri": "https://localhost:8080/"
        },
        "id": "71UPD-lnh31T",
        "outputId": "4c65bba6-1af0-409a-a9f4-da410eb46082"
      },
      "execution_count": 91,
      "outputs": [
        {
          "output_type": "stream",
          "name": "stdout",
          "text": [
            "Error executing query: no such table: customer\n"
          ]
        }
      ]
    },
    {
      "cell_type": "markdown",
      "source": [
        "Solution 13 :"
      ],
      "metadata": {
        "id": "Zce9IUSAkf-E"
      }
    },
    {
      "cell_type": "code",
      "source": [
        "import sqlite3\n",
        "\n",
        "# Connect to the database (replace 'your_database.db' with your database file name)\n",
        "# Assuming the database you want to query is 'employees.db' based on previous cells.\n",
        "# If your tables ('film', 'inventory', 'rental') are in a different database, please change 'employees.db' accordingly.\n",
        "conn = sqlite3.connect('employees.db')\n",
        "cursor = conn.cursor()\n",
        "\n",
        "# SQL query to select film title and the count of rentals for each film, ordered by rental count in descending order, limited to the top 5\n",
        "# Note: The tables ('film', 'inventory', 'rental') do not exist in the 'employees.db' database created earlier.\n",
        "# This query will likely result in errors like \"no such table: film\".\n",
        "# If you intended to query different tables or a different database, please update the connection or query accordingly.\n",
        "select_query = \"\"\"\n",
        "SELECT\n",
        "    f.title,\n",
        "    COUNT(r.rental_id) AS rental_count\n",
        "FROM\n",
        "    film f\n",
        "JOIN\n",
        "    inventory i ON f.film_id = i.film_id\n",
        "JOIN\n",
        "    rental r ON i.inventory_id = r.inventory_id\n",
        "GROUP BY\n",
        "    f.film_id\n",
        "ORDER BY\n",
        "    rental_count DESC\n",
        "LIMIT 5;\n",
        "\"\"\"\n",
        "\n",
        "# Execute the SQL query\n",
        "try:\n",
        "    cursor.execute(select_query)\n",
        "    results = cursor.fetchall()\n",
        "\n",
        "    # Print the results\n",
        "    for row in results:\n",
        "        print(row)\n",
        "\n",
        "except sqlite3.Error as e:\n",
        "    print(f\"Error executing query: {e}\")\n",
        "finally:\n",
        "    # Close the connection\n",
        "    conn.close()"
      ],
      "metadata": {
        "colab": {
          "base_uri": "https://localhost:8080/"
        },
        "id": "Aw1Ux4IijuKF",
        "outputId": "d0223283-2f9e-4fd6-8948-877b2812e547"
      },
      "execution_count": 93,
      "outputs": [
        {
          "output_type": "stream",
          "name": "stdout",
          "text": [
            "Error executing query: no such table: film\n"
          ]
        }
      ]
    },
    {
      "cell_type": "markdown",
      "source": [
        "Solution 14:"
      ],
      "metadata": {
        "id": "WPhpE-fXleH2"
      }
    },
    {
      "cell_type": "code",
      "source": [
        "import sqlite3\n",
        "\n",
        "# Connect to your database (replace 'your_database.db' with your actual database file)\n",
        "# Assuming the database you want to query is 'employees.db' based on previous cells.\n",
        "# If your tables ('customer', 'rental', 'inventory') are in a different database, please change 'employees.db' accordingly.\n",
        "conn = sqlite3.connect('employees.db')\n",
        "cursor = conn.cursor()\n",
        "\n",
        "# SQL query to select customer first name and last name who have rented films from both store 1 and store 2\n",
        "# Note: The tables ('customer', 'rental', 'inventory') do not exist in the 'employees.db' database created earlier.\n",
        "# This query will likely result in errors like \"no such table: customer\".\n",
        "# If you intended to query different tables or a different database, please update the connection or query accordingly.\n",
        "select_query = \"\"\"\n",
        "SELECT\n",
        "    c.first_name,\n",
        "    c.last_name\n",
        "FROM\n",
        "    customer c\n",
        "JOIN\n",
        "    rental r ON c.customer_id = r.customer_id\n",
        "JOIN\n",
        "    inventory i ON r.inventory_id = i.inventory_id\n",
        "WHERE\n",
        "    i.store_id IN (1, 2)\n",
        "GROUP BY\n",
        "    c.customer_id\n",
        "HAVING\n",
        "    COUNT(DISTINCT i.store_id) = 2;\n",
        "\"\"\"\n",
        "\n",
        "# Execute the query\n",
        "try:\n",
        "    cursor.execute(select_query)\n",
        "    results = cursor.fetchall()\n",
        "\n",
        "    # Print the results\n",
        "    for row in results:\n",
        "        print(row)\n",
        "\n",
        "except sqlite3.Error as e:\n",
        "    print(f\"Error executing query: {e}\")\n",
        "finally:\n",
        "    # Close the connection\n",
        "    conn.close()"
      ],
      "metadata": {
        "colab": {
          "base_uri": "https://localhost:8080/"
        },
        "id": "hD1pyL87h3yq",
        "outputId": "d48b2b49-4118-4b79-e1e0-c15e85987625"
      },
      "execution_count": 95,
      "outputs": [
        {
          "output_type": "stream",
          "name": "stdout",
          "text": [
            "Error executing query: no such table: customer\n"
          ]
        }
      ]
    }
  ]
}